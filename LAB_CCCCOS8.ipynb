{
 "cells": [
  {
   "cell_type": "code",
   "execution_count": 2,
   "id": "419fdc90-da81-4066-8433-cbb83a1105d6",
   "metadata": {},
   "outputs": [],
   "source": [
    "import numpy as np\n",
    "from scipy.fftpack import fft, ifft, fftfreq\n",
    "import matplotlib.pyplot as plt"
   ]
  },
  {
   "cell_type": "markdown",
   "id": "37b65bd9-2431-481c-bb5a-e4330be34242",
   "metadata": {},
   "source": [
    "<h1>TASK1</h1>"
   ]
  },
  {
   "cell_type": "markdown",
   "id": "b7afb779-aa28-4d52-85a1-84a8229ad71b",
   "metadata": {},
   "source": [
    "<p>Метод Квадратур(квадратиков)</p>"
   ]
  },
  {
   "cell_type": "code",
   "execution_count": 3,
   "id": "90908ac8-f58c-485e-9831-47476c128fcf",
   "metadata": {},
   "outputs": [],
   "source": [
    "import numpy as np\n",
    "from scipy.integrate import odeint \n",
    "import matplotlib.pyplot as plt \n",
    "import math"
   ]
  },
  {
   "cell_type": "code",
   "execution_count": 4,
   "id": "c5548109-7cd7-49ae-b5fb-1627b44e5a65",
   "metadata": {},
   "outputs": [],
   "source": [
    "h = 0.01\n",
    "a = 0\n",
    "b = 1\n",
    "lam = 0.5\n",
    "\n",
    "x=np.arange (a, b, h)\n",
    "x=x.reshape(len(x),1)\n",
    "n=len(x)\n",
    "\n",
    "K = lambda x1,s: x1 * s\n",
    "f = lambda x1: 5/6 * x1\n",
    "y_exact=lambda x1: x1\n",
    "\n",
    "y=[] # точное решение\n",
    "for i in range(n):\n",
    " y.append([]) # создаем пустую строку\n",
    " y[i].append(y_exact(x[i]))\n",
    "y=np.array(y).reshape(n,1) # точное решение"
   ]
  },
  {
   "cell_type": "code",
   "execution_count": 10,
   "id": "5403de16-86cf-416c-b41e-e5cb18ab778f",
   "metadata": {},
   "outputs": [],
   "source": [
    "def Fred_2(K,f,a,b,h):\n",
    "    x = np.arange(a, b, h)\n",
    "    x = x.reshape(len(x),1)\n",
    "    n = len(x)\n",
    "    wt = 1/2\n",
    "    wj = 1\n",
    "    A=np.zeros((n, n))\n",
    "    for i in range(n):\n",
    "        A[i][0]=-h*wt*K(x[i],x[0])\n",
    "        for j in range(1,n-1,1):\n",
    "            A[i][j] = -h * wj * K(x[i],x[j])\n",
    "    A[i][n-1] = -h * wt * K(x[i],x[n-1])\n",
    "    A[i][i] = A[i][i] + 1 \n",
    "     \n",
    "    B = np.zeros((n,1))\n",
    "    for j in range(n):\n",
    "        B[j][0] = f(x[j])\n",
    " \n",
    "    y=np.linalg.solve(A, B)\n",
    "    return y"
   ]
  },
  {
   "cell_type": "code",
   "execution_count": 11,
   "id": "4964aec1-969e-4a46-8184-09cd522c240d",
   "metadata": {},
   "outputs": [
    {
     "ename": "LinAlgError",
     "evalue": "Singular matrix",
     "output_type": "error",
     "traceback": [
      "\u001b[1;31m---------------------------------------------------------------------------\u001b[0m",
      "\u001b[1;31mLinAlgError\u001b[0m                               Traceback (most recent call last)",
      "Cell \u001b[1;32mIn[11], line 1\u001b[0m\n\u001b[1;32m----> 1\u001b[0m y_approx \u001b[38;5;241m=\u001b[39m \u001b[43mFred_2\u001b[49m\u001b[43m(\u001b[49m\u001b[43mK\u001b[49m\u001b[43m,\u001b[49m\u001b[43mf\u001b[49m\u001b[43m,\u001b[49m\u001b[43ma\u001b[49m\u001b[43m,\u001b[49m\u001b[43mb\u001b[49m\u001b[43m,\u001b[49m\u001b[43mh\u001b[49m\u001b[43m)\u001b[49m\n\u001b[0;32m      2\u001b[0m plt\u001b[38;5;241m.\u001b[39mplot(x,y, \u001b[38;5;124m'\u001b[39m\u001b[38;5;124m-g\u001b[39m\u001b[38;5;124m'\u001b[39m,linewidth\u001b[38;5;241m=\u001b[39m\u001b[38;5;241m2\u001b[39m, label\u001b[38;5;241m=\u001b[39m\u001b[38;5;124m'\u001b[39m\u001b[38;5;124my_exact\u001b[39m\u001b[38;5;124m'\u001b[39m) \u001b[38;5;66;03m# график точного решения\u001b[39;00m\n\u001b[0;32m      3\u001b[0m plt\u001b[38;5;241m.\u001b[39mplot(x,y_approx, \u001b[38;5;124m'\u001b[39m\u001b[38;5;124mor\u001b[39m\u001b[38;5;124m'\u001b[39m, label\u001b[38;5;241m=\u001b[39m\u001b[38;5;124m'\u001b[39m\u001b[38;5;124my_approx\u001b[39m\u001b[38;5;124m'\u001b[39m) \u001b[38;5;66;03m# график найденного решения\u001b[39;00m\n",
      "Cell \u001b[1;32mIn[10], line 19\u001b[0m, in \u001b[0;36mFred_2\u001b[1;34m(K, f, a, b, h)\u001b[0m\n\u001b[0;32m     16\u001b[0m \u001b[38;5;28;01mfor\u001b[39;00m j \u001b[38;5;129;01min\u001b[39;00m \u001b[38;5;28mrange\u001b[39m(n):\n\u001b[0;32m     17\u001b[0m     B[j][\u001b[38;5;241m0\u001b[39m] \u001b[38;5;241m=\u001b[39m f(x[j])\n\u001b[1;32m---> 19\u001b[0m y\u001b[38;5;241m=\u001b[39m\u001b[43mnp\u001b[49m\u001b[38;5;241;43m.\u001b[39;49m\u001b[43mlinalg\u001b[49m\u001b[38;5;241;43m.\u001b[39;49m\u001b[43msolve\u001b[49m\u001b[43m(\u001b[49m\u001b[43mA\u001b[49m\u001b[43m,\u001b[49m\u001b[43m \u001b[49m\u001b[43mB\u001b[49m\u001b[43m)\u001b[49m\n\u001b[0;32m     20\u001b[0m \u001b[38;5;28;01mreturn\u001b[39;00m y\n",
      "File \u001b[1;32m<__array_function__ internals>:200\u001b[0m, in \u001b[0;36msolve\u001b[1;34m(*args, **kwargs)\u001b[0m\n",
      "File \u001b[1;32m~\\AppData\\Local\\Programs\\Python\\Python311\\Lib\\site-packages\\numpy\\linalg\\linalg.py:386\u001b[0m, in \u001b[0;36msolve\u001b[1;34m(a, b)\u001b[0m\n\u001b[0;32m    384\u001b[0m signature \u001b[38;5;241m=\u001b[39m \u001b[38;5;124m'\u001b[39m\u001b[38;5;124mDD->D\u001b[39m\u001b[38;5;124m'\u001b[39m \u001b[38;5;28;01mif\u001b[39;00m isComplexType(t) \u001b[38;5;28;01melse\u001b[39;00m \u001b[38;5;124m'\u001b[39m\u001b[38;5;124mdd->d\u001b[39m\u001b[38;5;124m'\u001b[39m\n\u001b[0;32m    385\u001b[0m extobj \u001b[38;5;241m=\u001b[39m get_linalg_error_extobj(_raise_linalgerror_singular)\n\u001b[1;32m--> 386\u001b[0m r \u001b[38;5;241m=\u001b[39m \u001b[43mgufunc\u001b[49m\u001b[43m(\u001b[49m\u001b[43ma\u001b[49m\u001b[43m,\u001b[49m\u001b[43m \u001b[49m\u001b[43mb\u001b[49m\u001b[43m,\u001b[49m\u001b[43m \u001b[49m\u001b[43msignature\u001b[49m\u001b[38;5;241;43m=\u001b[39;49m\u001b[43msignature\u001b[49m\u001b[43m,\u001b[49m\u001b[43m \u001b[49m\u001b[43mextobj\u001b[49m\u001b[38;5;241;43m=\u001b[39;49m\u001b[43mextobj\u001b[49m\u001b[43m)\u001b[49m\n\u001b[0;32m    388\u001b[0m \u001b[38;5;28;01mreturn\u001b[39;00m wrap(r\u001b[38;5;241m.\u001b[39mastype(result_t, copy\u001b[38;5;241m=\u001b[39m\u001b[38;5;28;01mFalse\u001b[39;00m))\n",
      "File \u001b[1;32m~\\AppData\\Local\\Programs\\Python\\Python311\\Lib\\site-packages\\numpy\\linalg\\linalg.py:89\u001b[0m, in \u001b[0;36m_raise_linalgerror_singular\u001b[1;34m(err, flag)\u001b[0m\n\u001b[0;32m     88\u001b[0m \u001b[38;5;28;01mdef\u001b[39;00m \u001b[38;5;21m_raise_linalgerror_singular\u001b[39m(err, flag):\n\u001b[1;32m---> 89\u001b[0m     \u001b[38;5;28;01mraise\u001b[39;00m LinAlgError(\u001b[38;5;124m\"\u001b[39m\u001b[38;5;124mSingular matrix\u001b[39m\u001b[38;5;124m\"\u001b[39m)\n",
      "\u001b[1;31mLinAlgError\u001b[0m: Singular matrix"
     ]
    }
   ],
   "source": [
    "y_approx = Fred_2(K,f,a,b,h)\n",
    "plt.plot(x,y, '-g',linewidth=2, label='y_exact') # график точного решения\n",
    "plt.plot(x,y_approx, 'or', label='y_approx') # график найденного решения\n",
    "plt.xlabel(\"x\")\n",
    "plt.ylabel(\"y\")\n",
    "plt.legend(bbox_to_anchor=(1, 1), loc='best')\n",
    "plt.ylim([0,np.max(y)+2])\n",
    "plt.show()"
   ]
  }
 ],
 "metadata": {
  "kernelspec": {
   "display_name": "Python 3 (ipykernel)",
   "language": "python",
   "name": "python3"
  },
  "language_info": {
   "codemirror_mode": {
    "name": "ipython",
    "version": 3
   },
   "file_extension": ".py",
   "mimetype": "text/x-python",
   "name": "python",
   "nbconvert_exporter": "python",
   "pygments_lexer": "ipython3",
   "version": "3.11.3"
  }
 },
 "nbformat": 4,
 "nbformat_minor": 5
}
